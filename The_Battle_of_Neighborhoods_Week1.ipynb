{
 "cells": [
  {
   "cell_type": "markdown",
   "metadata": {},
   "source": [
    "## Coursera Capstone Project"
   ]
  },
  {
   "cell_type": "markdown",
   "metadata": {},
   "source": [
    "### The Battle of Neighborhoods (Week 1): Where to open Pizza shop in Music city, Nashville-TN?"
   ]
  },
  {
   "cell_type": "markdown",
   "metadata": {},
   "source": [
    "### Anuj Tripathi Part 1 : Introduction and Data Sections"
   ]
  },
  {
   "cell_type": "code",
   "execution_count": 1,
   "metadata": {},
   "outputs": [
    {
     "name": "stdout",
     "output_type": "stream",
     "text": [
      "Collecting package metadata (current_repodata.json): ...working... done\n",
      "Solving environment: ...working... done\n",
      "\n",
      "# All requested packages already installed.\n",
      "\n",
      "Collecting package metadata (current_repodata.json): ...working... done\n",
      "Solving environment: ...working... done\n",
      "\n",
      "# All requested packages already installed.\n",
      "\n",
      "Libraries imported.\n"
     ]
    }
   ],
   "source": [
    "import numpy as np # library to handle data in a vectorized manner\n",
    "from bs4 import BeautifulSoup\n",
    "import pandas as pd # library for data analsysis\n",
    "pd.set_option('display.max_columns', None)\n",
    "pd.set_option('display.max_rows', None)\n",
    "\n",
    "import json # library to handle JSON files\n",
    "\n",
    "!conda install -c conda-forge geopy --yes\n",
    "from geopy.geocoders import Nominatim # convert an address into latitude and longitude values\n",
    "\n",
    "import requests # library to handle requests\n",
    "from pandas.io.json import json_normalize # tranform JSON file into a pandas dataframe\n",
    "\n",
    "# Matplotlib and associated plotting modules\n",
    "import matplotlib.cm as cm\n",
    "import matplotlib.colors as colors\n",
    "\n",
    "# import k-means from clustering stage\n",
    "from sklearn.cluster import KMeans\n",
    "\n",
    "!conda install -c conda-forge folium=0.5.0 --yes \n",
    "import folium # map rendering library\n",
    "\n",
    "print('Libraries imported.')"
   ]
  },
  {
   "cell_type": "code",
   "execution_count": 2,
   "metadata": {},
   "outputs": [],
   "source": [
    "# A description of the problem and a discussion of the background. (15 marks)"
   ]
  },
  {
   "cell_type": "markdown",
   "metadata": {},
   "source": [
    "### 1. Introduction Section :"
   ]
  },
  {
   "cell_type": "markdown",
   "metadata": {},
   "source": [
    "#### Discussion of the business problem and the audience who would be interested in this project"
   ]
  },
  {
   "cell_type": "markdown",
   "metadata": {},
   "source": [
    "#### project: Where to open Pizza shop in Music city, Nashville-TN?"
   ]
  },
  {
   "cell_type": "markdown",
   "metadata": {},
   "source": [
    "#### Introduction"
   ]
  },
  {
   "cell_type": "markdown",
   "metadata": {},
   "source": [
    "Nashville is the capital of the U.S. state of Tennessee and called as Music City due to the epicenter of country and western music in the United States.  Nashville is perhaps best known as the capital of country music, as evidenced by such attractions as the Country Music Hall of Fame and the city's famous Music Row district and the legendary country music venues Grand Ole Opry House."
   ]
  },
  {
   "cell_type": "markdown",
   "metadata": {},
   "source": [
    "Today, Nashville-Tn not only music city, it is a leader in health care industry with more than 500 health care companies, \n",
    "operated from Nashville. Nashville health care industry contributes an overall economic benefit of $46.7 billion and more\n",
    "than 270,000 jobs to the local economy annually."
   ]
  },
  {
   "cell_type": "markdown",
   "metadata": {},
   "source": [
    "The Nashville Convention & Visitors Bureau reports that the tourism industry broke another record, with 16.1 million \n",
    "visitors to the city in 2019. Throughout the whole year, tourism spending in Nashville topped more than $7 billion. \n",
    "Due to these specialty, now Nashville was recently named one of 8 cities with booming entrepreneur communities, mostly \n",
    "due to music scene and healthcare industry ties."
   ]
  },
  {
   "cell_type": "markdown",
   "metadata": {},
   "source": [
    "#### Business Problem "
   ]
  },
  {
   "cell_type": "markdown",
   "metadata": {},
   "source": [
    "This report focusses on the issue of where to open a new pizza store in a neighborhood of Music city. The Nashville and its neighborhoods are target the food business. More than 100 new restaurants and bars opened last year and an additional 100 will open this year. Downtown is famous for music, bars and restaurant, but neighborhoods also famous as historical spots in Music City tourists with low business competition."
   ]
  },
  {
   "cell_type": "markdown",
   "metadata": {},
   "source": [
    "##### Interested Audience"
   ]
  },
  {
   "cell_type": "markdown",
   "metadata": {},
   "source": [
    "Metropolitan Government of Nashville & Davidson County invite and promotes new vendors/ entrepreneur for business opportunities in Music city. People also spent a lot of money on Nashville's food scene. We have analyzed neighborhoods of Music City and pizza store in different famous neighborhoods, to decide best and less competitive locations for our client’s new pizza shop."
   ]
  },
  {
   "cell_type": "code",
   "execution_count": 5,
   "metadata": {},
   "outputs": [],
   "source": [
    "# A description of the data and how it will be used to solve the problem. (15 marks)"
   ]
  },
  {
   "cell_type": "markdown",
   "metadata": {},
   "source": [
    "### 2. Data Section:"
   ]
  },
  {
   "cell_type": "markdown",
   "metadata": {},
   "source": [
    "For this project we need the following data:\n",
    "\n",
    "A.\tNashville, TN neighborhood data that contains list Boroughs, Neighborhoods along with their Postal code. \n",
    "\n",
    "Data source: PostalCode_Nashville_Tn.xlsx\n",
    "\n",
    "Description: This data set contains the required information. And we will use this data set to explore various neighborhoods of new york city. Previously scraped Collect the Nashville,TN neighborhood data  from Wikipedia (https://en.wikipedia.org/wiki/Nashville,_Tennessee) and make .xlsx file.\n",
    "\n",
    "B.\tGeoSpace data for latitude and longitude of US Zip code.\n",
    "\n",
    "Data source: us-zip-code-latitude-and-longitude.xlsx\n",
    "\n",
    "Description: US Zip Code Latitude and Longitude open data (https://public.opendatasoft.com/explore/dataset/us-zip-code-latitude-and-longitude/export/)\n",
    "\n",
    "C.\t Id of the Pizza Place: 4bf58dd8d48988d1ca941735 \n",
    "\n",
    "D.\tPizza stores in each neighborhood of Nashville, TN.\n",
    "\n",
    "Data source: Fousquare API\n",
    "\n",
    "Description: By using this api we will get all the venues in each neighborhood. We can filter these venues to get only Pizza stores.\n"
   ]
  },
  {
   "cell_type": "markdown",
   "metadata": {},
   "source": [
    "### 3. Approach:"
   ]
  },
  {
   "cell_type": "markdown",
   "metadata": {},
   "source": [
    "•\tCollect the Nashville,TN neighborhood data  from Wikipedia (https://en.wikipedia.org/wiki/Nashville,_Tennessee) and make .xlsx file.\n",
    "\n",
    "•\tLoad data by .xlsx to pandas dataframe.\n",
    "\n",
    "•\tFor GeoSpace data, US Zip Code Latitude and Longitude.xlsx data file used\n",
    "\n",
    "(https://public.opendatasoft.com/explore/dataset/us-zip-code-latitude-and-longitude/export/).\n",
    "\n",
    "•\tFind geographical coordinate of neighborhood of Nashville, TN.\n",
    "\n",
    "•\tCreate map of Nashville,TN with folium and mark neighborhoods.\n",
    "\n",
    "•\tUsing FourSquare API we will find pizza stores for each neighborhood.\n",
    "\n",
    "•\tFilter out pizza stores for each neighborhood.\n",
    "\n",
    "•\tVisualize pizza stores for each neighborhood .\n",
    "\n",
    "•\tFind less no pizza store neighborhood  to open a new pizza shop.\n"
   ]
  },
  {
   "cell_type": "code",
   "execution_count": 9,
   "metadata": {},
   "outputs": [
    {
     "data": {
      "text/html": [
       "<div>\n",
       "<style scoped>\n",
       "    .dataframe tbody tr th:only-of-type {\n",
       "        vertical-align: middle;\n",
       "    }\n",
       "\n",
       "    .dataframe tbody tr th {\n",
       "        vertical-align: top;\n",
       "    }\n",
       "\n",
       "    .dataframe thead th {\n",
       "        text-align: right;\n",
       "    }\n",
       "</style>\n",
       "<table border=\"1\" class=\"dataframe\">\n",
       "  <thead>\n",
       "    <tr style=\"text-align: right;\">\n",
       "      <th></th>\n",
       "      <th>PostalCode</th>\n",
       "      <th>Borough</th>\n",
       "      <th>Neighborhood</th>\n",
       "    </tr>\n",
       "  </thead>\n",
       "  <tbody>\n",
       "    <tr>\n",
       "      <td>0</td>\n",
       "      <td>37013</td>\n",
       "      <td>Nashville</td>\n",
       "      <td>Antioch</td>\n",
       "    </tr>\n",
       "    <tr>\n",
       "      <td>1</td>\n",
       "      <td>37205</td>\n",
       "      <td>Belle Meade</td>\n",
       "      <td>Belle Meade Plantation</td>\n",
       "    </tr>\n",
       "    <tr>\n",
       "      <td>2</td>\n",
       "      <td>37221</td>\n",
       "      <td>Nashville</td>\n",
       "      <td>Bellevue</td>\n",
       "    </tr>\n",
       "    <tr>\n",
       "      <td>3</td>\n",
       "      <td>37207</td>\n",
       "      <td>Williamson</td>\n",
       "      <td>Brentwood</td>\n",
       "    </tr>\n",
       "    <tr>\n",
       "      <td>4</td>\n",
       "      <td>37206</td>\n",
       "      <td>Nashville</td>\n",
       "      <td>East Nashville</td>\n",
       "    </tr>\n",
       "  </tbody>\n",
       "</table>\n",
       "</div>"
      ],
      "text/plain": [
       "   PostalCode      Borough            Neighborhood\n",
       "0       37013    Nashville                 Antioch\n",
       "1       37205  Belle Meade  Belle Meade Plantation\n",
       "2       37221    Nashville                Bellevue\n",
       "3       37207   Williamson               Brentwood\n",
       "4       37206    Nashville          East Nashville"
      ]
     },
     "execution_count": 9,
     "metadata": {},
     "output_type": "execute_result"
    }
   ],
   "source": [
    "df_Nashville = pd.read_excel (r'C:\\Users\\Dr Anuj Tripathi\\Desktop\\PostalCode_Nashville_Tn.xlsx')\n",
    "df_Nashville.head()"
   ]
  },
  {
   "cell_type": "code",
   "execution_count": 10,
   "metadata": {},
   "outputs": [
    {
     "data": {
      "text/plain": [
       "(27, 3)"
      ]
     },
     "execution_count": 10,
     "metadata": {},
     "output_type": "execute_result"
    }
   ],
   "source": [
    "df_Nashville.shape"
   ]
  },
  {
   "cell_type": "code",
   "execution_count": 12,
   "metadata": {},
   "outputs": [
    {
     "data": {
      "text/html": [
       "<div>\n",
       "<style scoped>\n",
       "    .dataframe tbody tr th:only-of-type {\n",
       "        vertical-align: middle;\n",
       "    }\n",
       "\n",
       "    .dataframe tbody tr th {\n",
       "        vertical-align: top;\n",
       "    }\n",
       "\n",
       "    .dataframe thead th {\n",
       "        text-align: right;\n",
       "    }\n",
       "</style>\n",
       "<table border=\"1\" class=\"dataframe\">\n",
       "  <thead>\n",
       "    <tr style=\"text-align: right;\">\n",
       "      <th></th>\n",
       "      <th>PostalCode</th>\n",
       "      <th>City</th>\n",
       "      <th>State</th>\n",
       "      <th>Latitude</th>\n",
       "      <th>Longitude</th>\n",
       "      <th>Timezone</th>\n",
       "      <th>Daylight savings time flag</th>\n",
       "      <th>geopoint</th>\n",
       "    </tr>\n",
       "  </thead>\n",
       "  <tbody>\n",
       "    <tr>\n",
       "      <td>0</td>\n",
       "      <td>71937</td>\n",
       "      <td>Cove</td>\n",
       "      <td>AR</td>\n",
       "      <td>34.398483</td>\n",
       "      <td>-94.39398</td>\n",
       "      <td>-6</td>\n",
       "      <td>1</td>\n",
       "      <td>34.398483, -94.39398</td>\n",
       "    </tr>\n",
       "    <tr>\n",
       "      <td>1</td>\n",
       "      <td>72044</td>\n",
       "      <td>Edgemont</td>\n",
       "      <td>AR</td>\n",
       "      <td>35.624351</td>\n",
       "      <td>-92.16056</td>\n",
       "      <td>-6</td>\n",
       "      <td>1</td>\n",
       "      <td>35.624351, -92.16056</td>\n",
       "    </tr>\n",
       "    <tr>\n",
       "      <td>2</td>\n",
       "      <td>56171</td>\n",
       "      <td>Sherburn</td>\n",
       "      <td>MN</td>\n",
       "      <td>43.660847</td>\n",
       "      <td>-94.74357</td>\n",
       "      <td>-6</td>\n",
       "      <td>1</td>\n",
       "      <td>43.660847, -94.74357</td>\n",
       "    </tr>\n",
       "    <tr>\n",
       "      <td>3</td>\n",
       "      <td>49430</td>\n",
       "      <td>Lamont</td>\n",
       "      <td>MI</td>\n",
       "      <td>43.010337</td>\n",
       "      <td>-85.89754</td>\n",
       "      <td>-5</td>\n",
       "      <td>1</td>\n",
       "      <td>43.010337, -85.89754</td>\n",
       "    </tr>\n",
       "    <tr>\n",
       "      <td>4</td>\n",
       "      <td>52585</td>\n",
       "      <td>Richland</td>\n",
       "      <td>IA</td>\n",
       "      <td>41.194129</td>\n",
       "      <td>-91.98027</td>\n",
       "      <td>-6</td>\n",
       "      <td>1</td>\n",
       "      <td>41.194129, -91.98027</td>\n",
       "    </tr>\n",
       "  </tbody>\n",
       "</table>\n",
       "</div>"
      ],
      "text/plain": [
       "   PostalCode      City State   Latitude  Longitude  Timezone  \\\n",
       "0       71937      Cove    AR  34.398483  -94.39398        -6   \n",
       "1       72044  Edgemont    AR  35.624351  -92.16056        -6   \n",
       "2       56171  Sherburn    MN  43.660847  -94.74357        -6   \n",
       "3       49430    Lamont    MI  43.010337  -85.89754        -5   \n",
       "4       52585  Richland    IA  41.194129  -91.98027        -6   \n",
       "\n",
       "   Daylight savings time flag              geopoint  \n",
       "0                           1  34.398483, -94.39398  \n",
       "1                           1  35.624351, -92.16056  \n",
       "2                           1  43.660847, -94.74357  \n",
       "3                           1  43.010337, -85.89754  \n",
       "4                           1  41.194129, -91.98027  "
      ]
     },
     "execution_count": 12,
     "metadata": {},
     "output_type": "execute_result"
    }
   ],
   "source": [
    "coordinates_df = pd.read_excel (r'C:\\Users\\Dr Anuj Tripathi\\Desktop\\us-zip-code-latitude-and-longitude.xlsx')\n",
    "coordinates_df.head()"
   ]
  },
  {
   "cell_type": "code",
   "execution_count": 14,
   "metadata": {},
   "outputs": [
    {
     "name": "stdout",
     "output_type": "stream",
     "text": [
      "Your credentails:\n"
     ]
    }
   ],
   "source": [
    "CLIENT_ID = 'XXXXXXXXXXXXXXXXXXXXXXXXXXXXXXXXXXXXXXXXXXX' # your Foursquare ID\n",
    "CLIENT_SECRET = 'LXKJXIJISIJXIJJMMMMMMMMMMMMMXXXXXXXXXXX' # your Foursquare Secret\n",
    "VERSION = '20180605' # Foursquare API version\n",
    "\n",
    "print('Your credentails:')"
   ]
  },
  {
   "cell_type": "code",
   "execution_count": 15,
   "metadata": {},
   "outputs": [],
   "source": [
    "# type your answer here\n",
    "LIMIT = 500 # Maximum is 100\n",
    "neighbors = ['Belle Meade, TN', 'Brentwood, TN', 'Franklin, TN', 'Goodlettsville, TN', 'Mount Juliet, TN', 'Murfreesboro, TN', 'Nashville, TN', 'Spring Hill, TN', 'Smyrna, TN']  \n",
    "results = {}\n",
    "for neighbor in neighbors:\n",
    "    url = 'https://api.foursquare.com/v2/venues/explore?&client_id={}&client_secret={}&v={}&near={}&limit={}&categoryId={}'.format(\n",
    "        CLIENT_ID, \n",
    "        CLIENT_SECRET, \n",
    "        VERSION, \n",
    "        neighbor,\n",
    "        LIMIT,\n",
    "        \"4bf58dd8d48988d1ca941735\") # PIZZA PLACE CATEGORY ID\n",
    "    results = requests.get(url).json()"
   ]
  },
  {
   "cell_type": "code",
   "execution_count": 16,
   "metadata": {},
   "outputs": [],
   "source": [
    "def get_category_type(row):\n",
    "    try:\n",
    "        categories_list = row['categories']\n",
    "    except:\n",
    "        categories_list = row['venue.categories']\n",
    "        \n",
    "    if len(categories_list) == 0:\n",
    "        return None\n",
    "    else:\n",
    "        return categories_list[0]['name']"
   ]
  },
  {
   "cell_type": "code",
   "execution_count": 19,
   "metadata": {},
   "outputs": [
    {
     "data": {
      "text/html": [
       "<div>\n",
       "<style scoped>\n",
       "    .dataframe tbody tr th:only-of-type {\n",
       "        vertical-align: middle;\n",
       "    }\n",
       "\n",
       "    .dataframe tbody tr th {\n",
       "        vertical-align: top;\n",
       "    }\n",
       "\n",
       "    .dataframe thead th {\n",
       "        text-align: right;\n",
       "    }\n",
       "</style>\n",
       "<table border=\"1\" class=\"dataframe\">\n",
       "  <thead>\n",
       "    <tr style=\"text-align: right;\">\n",
       "      <th></th>\n",
       "      <th>name</th>\n",
       "      <th>categories</th>\n",
       "      <th>lat</th>\n",
       "      <th>lng</th>\n",
       "    </tr>\n",
       "  </thead>\n",
       "  <tbody>\n",
       "    <tr>\n",
       "      <td>0</td>\n",
       "      <td>Salvo's Pizza</td>\n",
       "      <td>Pizza Place</td>\n",
       "      <td>35.979291</td>\n",
       "      <td>-86.558411</td>\n",
       "    </tr>\n",
       "    <tr>\n",
       "      <td>1</td>\n",
       "      <td>La Tavola Ristorante Italiano</td>\n",
       "      <td>Pizza Place</td>\n",
       "      <td>35.981155</td>\n",
       "      <td>-86.519264</td>\n",
       "    </tr>\n",
       "    <tr>\n",
       "      <td>2</td>\n",
       "      <td>Papa Murphy's</td>\n",
       "      <td>Pizza Place</td>\n",
       "      <td>35.985543</td>\n",
       "      <td>-86.552327</td>\n",
       "    </tr>\n",
       "    <tr>\n",
       "      <td>3</td>\n",
       "      <td>Pizza Hut</td>\n",
       "      <td>Pizza Place</td>\n",
       "      <td>35.993390</td>\n",
       "      <td>-86.527729</td>\n",
       "    </tr>\n",
       "    <tr>\n",
       "      <td>4</td>\n",
       "      <td>Jet's Pizza</td>\n",
       "      <td>Pizza Place</td>\n",
       "      <td>35.941974</td>\n",
       "      <td>-86.528232</td>\n",
       "    </tr>\n",
       "  </tbody>\n",
       "</table>\n",
       "</div>"
      ],
      "text/plain": [
       "                            name   categories        lat        lng\n",
       "0                  Salvo's Pizza  Pizza Place  35.979291 -86.558411\n",
       "1  La Tavola Ristorante Italiano  Pizza Place  35.981155 -86.519264\n",
       "2                  Papa Murphy's  Pizza Place  35.985543 -86.552327\n",
       "3                      Pizza Hut  Pizza Place  35.993390 -86.527729\n",
       "4                    Jet's Pizza  Pizza Place  35.941974 -86.528232"
      ]
     },
     "execution_count": 19,
     "metadata": {},
     "output_type": "execute_result"
    }
   ],
   "source": [
    "venues = results['response']['groups'][0]['items']\n",
    "Pizza_shop = json_normalize(venues) # flatten JSON\n",
    "\n",
    "# filter columns\n",
    "filtered_columns = ['venue.name', 'venue.categories', 'venue.location.lat', 'venue.location.lng']\n",
    "Pizza_shop =Pizza_shop.loc[:, filtered_columns]\n",
    "\n",
    "# filter the category for each row\n",
    "Pizza_shop['venue.categories'] = Pizza_shop.apply(get_category_type, axis=1)\n",
    "\n",
    "# clean columns\n",
    "Pizza_shop.columns = [col.split(\".\")[-1] for col in Pizza_shop.columns]\n",
    "\n",
    "Pizza_shop.head()"
   ]
  },
  {
   "cell_type": "markdown",
   "metadata": {},
   "source": [
    "### 4. Methodology:"
   ]
  },
  {
   "cell_type": "markdown",
   "metadata": {},
   "source": [
    "### 5. Result:"
   ]
  },
  {
   "cell_type": "markdown",
   "metadata": {},
   "source": [
    "### 6. Discussion:"
   ]
  },
  {
   "cell_type": "markdown",
   "metadata": {},
   "source": [
    "### 7. Conclusion:"
   ]
  }
 ],
 "metadata": {
  "kernelspec": {
   "display_name": "Python 3",
   "language": "python",
   "name": "python3"
  },
  "language_info": {
   "codemirror_mode": {
    "name": "ipython",
    "version": 3
   },
   "file_extension": ".py",
   "mimetype": "text/x-python",
   "name": "python",
   "nbconvert_exporter": "python",
   "pygments_lexer": "ipython3",
   "version": "3.7.4"
  }
 },
 "nbformat": 4,
 "nbformat_minor": 2
}
